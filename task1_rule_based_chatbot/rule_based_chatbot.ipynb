{
 "cells": [
  {
   "cell_type": "code",
   "execution_count": 1,
   "id": "af6272ad-b4f8-44e1-9691-88942e45756f",
   "metadata": {},
   "outputs": [],
   "source": [
    "import re\n",
    "from nltk.corpus import wordnet"
   ]
  },
  {
   "cell_type": "code",
   "execution_count": 2,
   "id": "84f3e6c5-150e-4736-a26e-a812d43874b9",
   "metadata": {},
   "outputs": [
    {
     "name": "stdout",
     "output_type": "stream",
     "text": [
      "{'hello': {'hi', 'hullo', 'how do you do', 'howdy', 'hello'}, 'timings': {'time', 'timing', 'clock'}}\n"
     ]
    }
   ],
   "source": [
    "# Building a list of keywords\n",
    "list_words = ['hello', 'timings']\n",
    "list_syn = {}\n",
    "for word in list_words:\n",
    "    synonyms = []\n",
    "    for syn in wordnet.synsets(word):\n",
    "        for lem in syn.lemmas():\n",
    "            #Remove any special character from strings\n",
    "            lem_name = re.sub('[^a-zA-Z0-9 \\\\n\\\\.]',' ',lem.name())\n",
    "            synonyms.append(lem_name)\n",
    "        list_syn[word] = set(synonyms)\n",
    "print(list_syn)"
   ]
  },
  {
   "cell_type": "code",
   "execution_count": 3,
   "id": "b9905e9e-7987-4438-b4f1-84d449398bc1",
   "metadata": {},
   "outputs": [
    {
     "name": "stdout",
     "output_type": "stream",
     "text": [
      "{'greet': re.compile('.*\\\\bhi\\\\b.*|.*\\\\bhullo\\\\b.*|.*\\\\bhow do you do\\\\b.*|.*\\\\bhowdy\\\\b.*|.*\\\\bhello\\\\b.*'), 'timings': re.compile('.*\\\\btime\\\\b.*|.*\\\\btiming\\\\b.*|.*\\\\bclock\\\\b.*')}\n"
     ]
    }
   ],
   "source": [
    "# Building dictionary of Intents & Keywords\n",
    "keywords = {}\n",
    "keywords_dict = {}\n",
    "\n",
    "# Defining a new keyword greet\n",
    "keywords['greet'] = []\n",
    "# Populating with synonyms of keyword formatted with regex metacharacters\n",
    "for synonym in list(list_syn['hello']):\n",
    "    keywords['greet'].append('.*\\\\b'+synonym+'\\\\b.*')\n",
    "\n",
    "keywords['timings'] = []\n",
    "# Populating with synonyms of keyword formatted with regex metacharacters\n",
    "for synonym in list(list_syn['timings']):\n",
    "    keywords['timings'].append('.*\\\\b'+synonym+'\\\\b.*')\n",
    "\n",
    "for intent, keys in keywords.items():\n",
    "    # Joining the values in the keywords dictionary with the OR(|) operator\n",
    "    keywords_dict[intent] = re.compile('|'.join(keys))\n",
    "print(keywords_dict)\n"
   ]
  },
  {
   "cell_type": "code",
   "execution_count": 10,
   "id": "c01e27fb-8da9-4e49-a79d-b36b1884a83c",
   "metadata": {},
   "outputs": [],
   "source": [
    "# Building a dictionary of responses\n",
    "responses = {\n",
    "    'greet':'Hello! How can I help you?',\n",
    "    'timings':'We are open from 9AM to 5PM, Monday to Friday.',\n",
    "    'fallback':'I am sorry I cannot do that.'\n",
    "}"
   ]
  },
  {
   "cell_type": "code",
   "execution_count": null,
   "id": "17b5ae5c-9e69-4ac0-a8f0-23fd88a97953",
   "metadata": {},
   "outputs": [
    {
     "name": "stdout",
     "output_type": "stream",
     "text": [
      "Hello, welcome to our bank?\n"
     ]
    }
   ],
   "source": [
    "print(\"Hello, welcome to our bank?\")\n",
    "while (True):\n",
    "    user_input = input().lower()\n",
    "    if user_input == 'quit':\n",
    "        print(\"Thank you for using our service.\")\n",
    "        break\n",
    "\n",
    "    matched_intent = None\n",
    "    for intent, pattern in keywords_dict.items():\n",
    "        # Using regular expression search function to look for keyword\n",
    "        if re.search(pattern, user_input):\n",
    "            matched_intent = intent\n",
    "    key = 'fallback'\n",
    "    if matched_intent in responses:\n",
    "        key = matched_intent\n",
    "    print (responses[key])"
   ]
  },
  {
   "cell_type": "code",
   "execution_count": null,
   "id": "1049e7d3-69b8-443d-9b7d-06a20130c2e1",
   "metadata": {},
   "outputs": [],
   "source": []
  }
 ],
 "metadata": {
  "kernelspec": {
   "display_name": "Python 3 (ipykernel)",
   "language": "python",
   "name": "python3"
  },
  "language_info": {
   "codemirror_mode": {
    "name": "ipython",
    "version": 3
   },
   "file_extension": ".py",
   "mimetype": "text/x-python",
   "name": "python",
   "nbconvert_exporter": "python",
   "pygments_lexer": "ipython3",
   "version": "3.12.1"
  }
 },
 "nbformat": 4,
 "nbformat_minor": 5
}
