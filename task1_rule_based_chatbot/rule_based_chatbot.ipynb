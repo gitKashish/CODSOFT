{
 "cells": [
  {
   "cell_type": "code",
   "execution_count": 23,
   "id": "af6272ad-b4f8-44e1-9691-88942e45756f",
   "metadata": {},
   "outputs": [],
   "source": [
    "import re\n",
    "from nltk.corpus import wordnet2021 as wordnet"
   ]
  },
  {
   "cell_type": "markdown",
   "id": "caa7fd01-5220-4268-86ff-806c88f1a6fe",
   "metadata": {},
   "source": [
    "# Building a list of keywords"
   ]
  },
  {
   "cell_type": "code",
   "execution_count": null,
   "id": "51bfd793-c471-4a35-bdf3-f99511e40e49",
   "metadata": {},
   "outputs": [],
   "source": [
    "list_words = ['hello', 'timings', 'morning', 'creator', 'languages','ai','name','ok']\n",
    "list_syn = {}\n",
    "for word in list_words:\n",
    "    synonyms = []\n",
    "    for syn in wordnet.synsets(word):\n",
    "        for lem in syn.lemmas():\n",
    "            #Remove any special character from strings\n",
    "            lem_name = re.sub('[^a-zA-Z0-9 \\\\n\\\\.]',' ',lem.name())\n",
    "            synonyms.append(lem_name.lower())\n",
    "        list_syn[word] = set(synonyms)\n",
    "print(list_syn)"
   ]
  },
  {
   "cell_type": "markdown",
   "id": "06670ce1-bc64-412a-9482-f2f44a09808b",
   "metadata": {},
   "source": [
    "# Building dictionary of Intents & Keywords"
   ]
  },
  {
   "cell_type": "code",
   "execution_count": null,
   "id": "e9727b11-0799-4e6b-940a-da462705638f",
   "metadata": {},
   "outputs": [],
   "source": [
    "keywords = {}\n",
    "keywords_dict = {}\n",
    "for word in list_words:    \n",
    "    # Defining a new keyword greet\n",
    "    keywords[word] = []\n",
    "    # Populating with synonyms of keyword formatted with regex metacharacters\n",
    "    for synonym in list(list_syn[word]):\n",
    "        keywords[word].append('.*\\\\b'+synonym+'\\\\b.*')\n",
    "\n",
    "for intent, keys in keywords.items():\n",
    "    # Joining the values in the keywords dictionary with the OR(|) operator\n",
    "    keywords_dict[intent] = re.compile('|'.join(keys))\n",
    "print(keywords_dict)"
   ]
  },
  {
   "cell_type": "markdown",
   "id": "1cc1dbc3-ae87-425f-85af-4750432480a6",
   "metadata": {},
   "source": [
    "# Building a dictionary of responses"
   ]
  },
  {
   "cell_type": "code",
   "execution_count": 32,
   "id": "d849eb75-d624-4455-bf66-b0ae195b21e7",
   "metadata": {},
   "outputs": [],
   "source": [
    "responses = {\n",
    "    'hello':'Hello! How can I help you?',\n",
    "    'timings':'I am available whenever you want :)',\n",
    "    'morning':'It is beautiful morning indeed',\n",
    "    'creator':'I was made by Kashish Sahu',\n",
    "    'language':'I can only work with English Language',\n",
    "    'ai':'Artificial intelligence (AI) is the intelligence of machines or software, as opposed to the intelligence of humans or other animals. It is a field of study in computer science that develops and studies intelligent machines. Such machines may be called AIs.',\n",
    "    'name':'I am just a rule based chatbot, I don\\'t have a name yet',\n",
    "    'ok':'Yeah :)',\n",
    "    'fallback':'I am sorry I cannot do that.'\n",
    "}"
   ]
  },
  {
   "cell_type": "markdown",
   "id": "a8190066-c441-4b82-9688-9cc45f1f51a6",
   "metadata": {},
   "source": [
    "# Chat interface\n",
    "- User input is taken in.\n",
    "- The intent is found using the regex patterns from the dictionary.\n",
    "- Matching intent is found and corresponding response is shown."
   ]
  },
  {
   "cell_type": "code",
   "execution_count": 35,
   "id": "fb962f29-541d-4542-a426-7bac15360d62",
   "metadata": {},
   "outputs": [
    {
     "name": "stdout",
     "output_type": "stream",
     "text": [
      "RULE BASED CHATBOT FOR CASUAL TALKS :)\n",
      "Type \"quit\" to exit the Chat\n"
     ]
    },
    {
     "name": "stdin",
     "output_type": "stream",
     "text": [
      "You >>>  hi there\n"
     ]
    },
    {
     "name": "stdout",
     "output_type": "stream",
     "text": [
      "Bot >>>  Hello! How can I help you? \n",
      "\n"
     ]
    },
    {
     "name": "stdin",
     "output_type": "stream",
     "text": [
      "You >>>  can you tell me what is artificial intelligence?\n"
     ]
    },
    {
     "name": "stdout",
     "output_type": "stream",
     "text": [
      "Bot >>>  Artificial intelligence (AI) is the intelligence of machines or software, as opposed to the intelligence of humans or other animals. It is a field of study in computer science that develops and studies intelligent machines. Such machines may be called AIs. \n",
      "\n"
     ]
    },
    {
     "name": "stdin",
     "output_type": "stream",
     "text": [
      "You >>>  oh alright\n"
     ]
    },
    {
     "name": "stdout",
     "output_type": "stream",
     "text": [
      "Bot >>>  Yeah :) \n",
      "\n"
     ]
    },
    {
     "name": "stdin",
     "output_type": "stream",
     "text": [
      "You >>>  btw what is your name?\n"
     ]
    },
    {
     "name": "stdout",
     "output_type": "stream",
     "text": [
      "Bot >>>  I am just a rule based chatbot, I don't have a name yet \n",
      "\n"
     ]
    },
    {
     "name": "stdin",
     "output_type": "stream",
     "text": [
      "You >>>  at what time are you available?\n"
     ]
    },
    {
     "name": "stdout",
     "output_type": "stream",
     "text": [
      "Bot >>>  I am available whenever you want :) \n",
      "\n"
     ]
    },
    {
     "name": "stdin",
     "output_type": "stream",
     "text": [
      "You >>>  also what languages can you communicate in ?\n"
     ]
    },
    {
     "name": "stdout",
     "output_type": "stream",
     "text": [
      "Bot >>>  I am sorry I cannot do that. \n",
      "\n"
     ]
    },
    {
     "name": "stdin",
     "output_type": "stream",
     "text": [
      "You >>>  I mean what words do you understand?\n"
     ]
    },
    {
     "name": "stdout",
     "output_type": "stream",
     "text": [
      "Bot >>>  I can only work with English Language \n",
      "\n"
     ]
    },
    {
     "name": "stdin",
     "output_type": "stream",
     "text": [
      "You >>>  alright then\n"
     ]
    },
    {
     "name": "stdout",
     "output_type": "stream",
     "text": [
      "Bot >>>  Yeah :) \n",
      "\n"
     ]
    },
    {
     "name": "stdin",
     "output_type": "stream",
     "text": [
      "You >>>  quit\n"
     ]
    },
    {
     "name": "stdout",
     "output_type": "stream",
     "text": [
      "Thank you for using our service.\n"
     ]
    }
   ],
   "source": [
    "print(\"RULE BASED CHATBOT FOR CASUAL TALKS :)\")\n",
    "print(\"Type \\\"quit\\\" to exit the Chat\")\n",
    "while (True):\n",
    "    user_input = input('You >>> ').lower()\n",
    "    if user_input == 'quit':\n",
    "        print(\"Thank you for using our service.\")\n",
    "        break\n",
    "\n",
    "    matched_intent = None\n",
    "    for intent, pattern in keywords_dict.items():\n",
    "        # Using regular expression search function to look for keyword\n",
    "        if re.search(pattern, user_input):\n",
    "            matched_intent = intent\n",
    "    key = 'fallback'\n",
    "    if matched_intent in responses:\n",
    "        key = matched_intent\n",
    "    print ('Bot >>> ',responses[key],'\\n')"
   ]
  },
  {
   "cell_type": "code",
   "execution_count": null,
   "id": "1049e7d3-69b8-443d-9b7d-06a20130c2e1",
   "metadata": {},
   "outputs": [],
   "source": []
  }
 ],
 "metadata": {
  "kernelspec": {
   "display_name": "Python 3 (ipykernel)",
   "language": "python",
   "name": "python3"
  },
  "language_info": {
   "codemirror_mode": {
    "name": "ipython",
    "version": 3
   },
   "file_extension": ".py",
   "mimetype": "text/x-python",
   "name": "python",
   "nbconvert_exporter": "python",
   "pygments_lexer": "ipython3",
   "version": "3.7.9"
  }
 },
 "nbformat": 4,
 "nbformat_minor": 5
}
