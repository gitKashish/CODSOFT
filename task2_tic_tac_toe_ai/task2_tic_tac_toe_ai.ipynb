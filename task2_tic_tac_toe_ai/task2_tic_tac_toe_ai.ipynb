{
 "cells": [
  {
   "cell_type": "markdown",
   "id": "045ab57f-cdf2-4ff0-944f-687816a234ee",
   "metadata": {},
   "source": [
    "# Tic-Tac-Toe \n",
    "- The board is defined as list of 9 elements. Each cell representing each cell of the board.\n",
    "- **Value of 0** : Empty cell\n",
    "- **Value of 1** : Maximizing Player (AI)\n",
    "- **value of -1** : Minimizing Player (Human)"
   ]
  },
  {
   "cell_type": "code",
   "execution_count": 8,
   "id": "2bf698dd-1ff3-4bf4-b669-bb502e3e8e86",
   "metadata": {},
   "outputs": [],
   "source": [
    "def set_board():\n",
    "    board = [0 for x in range(9)]\n",
    "    return board\n",
    "\n",
    "# Function to print Board\n",
    "def print_board(board):\n",
    "    temp_board = [' - ' for i in range(9)]\n",
    "    for x in range(9):\n",
    "        if(board[x] == 1):\n",
    "            temp_board[x] = ' X '\n",
    "        elif(board[x] == -1):\n",
    "            temp_board[x] = ' O '\n",
    "    for i in range(3):\n",
    "        print(temp_board[i*3],' | ',temp_board[(i*3)+1],' | ',temp_board[(i*3)+2])"
   ]
  },
  {
   "cell_type": "markdown",
   "id": "ff5596ef-678d-4930-a24d-5a8164cb6022",
   "metadata": {},
   "source": [
    "## Getting current state of a given board\n",
    "- **Return value of 1** : Maximizing Player (AI) Won\n",
    "- **Return value of -1** : Minimizing PLayer (Human) Won\n",
    "- **Return value of 0** : Tie between both Players\n",
    "- **Return value of None** : Game is not yet terminated"
   ]
  },
  {
   "cell_type": "code",
   "execution_count": 2,
   "id": "45ff7ce2-3081-4058-b9eb-a854cd38f04a",
   "metadata": {},
   "outputs": [],
   "source": [
    "def get_state(board):\n",
    "    # Checking for Horizontal or Vertical Match\n",
    "    for i in range(3):\n",
    "        if(board[i*3] == board[(i*3)+1] == board[(i*3)+2] != 0):\n",
    "            return board[i*3]\n",
    "        elif(board[i] == board[i+3] == board[i+6] != 0):\n",
    "            return board[i]\n",
    "    # Checking for Diagonal match\n",
    "    if(board[0] == board[4] == board[8] != 0 or board[2] == board[4] == board[6] != 0):\n",
    "        return board[4]\n",
    "\n",
    "    # Checking if any empty cell is left or not\n",
    "    if (0 not in board):\n",
    "        return 0\n",
    "    else:\n",
    "        return None    \n",
    "        "
   ]
  },
  {
   "cell_type": "markdown",
   "id": "6f33433e-3e22-47b1-bdd1-e58ff7482dc7",
   "metadata": {},
   "source": [
    "## Minimax function\n",
    "- It is used to determine the **best outcome** from a position.\n",
    "- Returns the final state of the game from the current board position. Assuming the opponent plays optimally."
   ]
  },
  {
   "cell_type": "code",
   "execution_count": 3,
   "id": "9c7048b3-f53e-48b4-9c35-f8e496bd7f21",
   "metadata": {},
   "outputs": [],
   "source": [
    "def minimax(board, alpha, beta, isMax):\n",
    "    # Return if position is terminating\n",
    "    if(get_state(board) != None):\n",
    "        return get_state(board)\n",
    "\n",
    "    if(isMax): # Maximizing Player's best move\n",
    "        best_val = float('-inf')\n",
    "        for i in range(9):\n",
    "            if(board[i]  == 0):\n",
    "                temp_board = board.copy()\n",
    "                temp_board[i] = 1\n",
    "                eval = minimax(temp_board, alpha, beta, not isMax)\n",
    "                alpha = max(eval, alpha)\n",
    "                if(beta <= alpha):\n",
    "                    break\n",
    "                best_val = max(best_val, eval)\n",
    "        return best_val\n",
    "    else: # Minimizing Player's best move\n",
    "        best_val = float('inf')\n",
    "        for i in range(9):\n",
    "            if(board[i]  == 0):\n",
    "                temp_board = board.copy()\n",
    "                temp_board[i] = -1\n",
    "                eval = minimax(temp_board, alpha, beta, not isMax)\n",
    "                beta = min(eval, beta)\n",
    "                if(beta <= alpha):\n",
    "                    break\n",
    "                best_val = min(best_val, eval)\n",
    "        return best_val"
   ]
  },
  {
   "cell_type": "markdown",
   "id": "e1f7dcab-0e10-4ce5-96f8-8cd3bdaff5d5",
   "metadata": {},
   "source": [
    "## Evaluation Function\n",
    "- This function gets the final state of every possible board position determined by the next avalailable move.\n",
    "- It then selects the the move with the best score (determined by the *MiniMax* function).\n",
    "- This is a **maximization evaluation** function."
   ]
  },
  {
   "cell_type": "code",
   "execution_count": 4,
   "id": "f8b4a9cd-b3c4-4a59-96c4-7abe10f2d4d9",
   "metadata": {},
   "outputs": [],
   "source": [
    "def evaluate(board_given):\n",
    "    best_val = float('-inf')\n",
    "    best_move = 0\n",
    "    for i in range(9):\n",
    "        if(board_given[i] == 0): # Try every valid position\n",
    "            temp_board = board_given.copy()\n",
    "            temp_board[i] = 1\n",
    "            eval = minimax(temp_board, float('-inf'), float('inf'), False)\n",
    "            if(eval > best_val): # Store the move with best outcome (maximum)\n",
    "                best_move = i\n",
    "                best_val = eval\n",
    "    return best_move"
   ]
  },
  {
   "cell_type": "markdown",
   "id": "b153ba2a-53da-4a75-8363-f014526f9296",
   "metadata": {},
   "source": [
    "# Game Interface\n",
    "- The AI is the maximizing player and gets the first move.\n",
    "- The Human is the minimizing player."
   ]
  },
  {
   "cell_type": "code",
   "execution_count": 9,
   "id": "c332a00c-86d5-474f-a6cc-dda1736b82ed",
   "metadata": {},
   "outputs": [],
   "source": [
    "def play():\n",
    "    board = set_board()\n",
    "    Max_turn = True # Give first turn to AI\n",
    "    # Loop continues until game is not in a terminating state\n",
    "    while(get_state(board) == None):\n",
    "        if(Max_turn): # AI Move\n",
    "            move = evaluate(board)\n",
    "            print(\"AI Move : \",move)\n",
    "            board[move] = 1\n",
    "            print_board(board)\n",
    "            Max_turn = not Max_turn\n",
    "        else: # Human Move\n",
    "            move = input(\"Choose Move : \")\n",
    "            if(move == \"quit\"):\n",
    "                break\n",
    "            move = int(move)\n",
    "            board[move] = -1\n",
    "            print_board(board)\n",
    "            Max_turn = not Max_turn\n",
    "\n",
    "    # Show Result\n",
    "    winner = \"Game ended in a Tie!!\"\n",
    "    if(get_state(board) == 1):\n",
    "        winner = \"AI Won!!\"\n",
    "    elif(get_state(board) == -1):\n",
    "        winner = \"Human Won!!\"\n",
    "\n",
    "    print(\"GAME OVER!!\")\n",
    "    print(winner)"
   ]
  },
  {
   "cell_type": "markdown",
   "id": "cf89a802-ec18-4359-8b3c-fee57d5f5219",
   "metadata": {},
   "source": [
    "# Test Runs"
   ]
  },
  {
   "cell_type": "code",
   "execution_count": 10,
   "id": "fb41bee2-3ff7-4512-9cd1-6f5a6188da62",
   "metadata": {
    "tags": []
   },
   "outputs": [
    {
     "name": "stdout",
     "output_type": "stream",
     "text": [
      "AI Move :  0\n",
      " X   |   -   |   - \n",
      " -   |   -   |   - \n",
      " -   |   -   |   - \n"
     ]
    },
    {
     "name": "stdin",
     "output_type": "stream",
     "text": [
      "Choose Move :  1\n"
     ]
    },
    {
     "name": "stdout",
     "output_type": "stream",
     "text": [
      " X   |   O   |   - \n",
      " -   |   -   |   - \n",
      " -   |   -   |   - \n",
      "AI Move :  2\n",
      " X   |   O   |   X \n",
      " -   |   -   |   - \n",
      " -   |   -   |   - \n"
     ]
    },
    {
     "name": "stdin",
     "output_type": "stream",
     "text": [
      "Choose Move :  4\n"
     ]
    },
    {
     "name": "stdout",
     "output_type": "stream",
     "text": [
      " X   |   O   |   X \n",
      " -   |   O   |   - \n",
      " -   |   -   |   - \n",
      "AI Move :  7\n",
      " X   |   O   |   X \n",
      " -   |   O   |   - \n",
      " -   |   X   |   - \n"
     ]
    },
    {
     "name": "stdin",
     "output_type": "stream",
     "text": [
      "Choose Move :  3\n"
     ]
    },
    {
     "name": "stdout",
     "output_type": "stream",
     "text": [
      " X   |   O   |   X \n",
      " O   |   O   |   - \n",
      " -   |   X   |   - \n",
      "AI Move :  5\n",
      " X   |   O   |   X \n",
      " O   |   O   |   X \n",
      " -   |   X   |   - \n"
     ]
    },
    {
     "name": "stdin",
     "output_type": "stream",
     "text": [
      "Choose Move :  8\n"
     ]
    },
    {
     "name": "stdout",
     "output_type": "stream",
     "text": [
      " X   |   O   |   X \n",
      " O   |   O   |   X \n",
      " -   |   X   |   O \n",
      "AI Move :  6\n",
      " X   |   O   |   X \n",
      " O   |   O   |   X \n",
      " X   |   X   |   O \n",
      "GAME OVER!!\n",
      "Game ended in a Tie!!\n"
     ]
    }
   ],
   "source": [
    "play()"
   ]
  },
  {
   "cell_type": "code",
   "execution_count": 13,
   "id": "92cadb14-c033-499d-9533-61d391f4a4a3",
   "metadata": {
    "tags": []
   },
   "outputs": [
    {
     "name": "stdout",
     "output_type": "stream",
     "text": [
      "AI Move :  0\n",
      " X   |   -   |   - \n",
      " -   |   -   |   - \n",
      " -   |   -   |   - \n"
     ]
    },
    {
     "name": "stdin",
     "output_type": "stream",
     "text": [
      "Choose Move :  1\n"
     ]
    },
    {
     "name": "stdout",
     "output_type": "stream",
     "text": [
      " X   |   O   |   - \n",
      " -   |   -   |   - \n",
      " -   |   -   |   - \n",
      "AI Move :  2\n",
      " X   |   O   |   X \n",
      " -   |   -   |   - \n",
      " -   |   -   |   - \n"
     ]
    },
    {
     "name": "stdin",
     "output_type": "stream",
     "text": [
      "Choose Move :  3\n"
     ]
    },
    {
     "name": "stdout",
     "output_type": "stream",
     "text": [
      " X   |   O   |   X \n",
      " O   |   -   |   - \n",
      " -   |   -   |   - \n",
      "AI Move :  4\n",
      " X   |   O   |   X \n",
      " O   |   X   |   - \n",
      " -   |   -   |   - \n"
     ]
    },
    {
     "name": "stdin",
     "output_type": "stream",
     "text": [
      "Choose Move :  8\n"
     ]
    },
    {
     "name": "stdout",
     "output_type": "stream",
     "text": [
      " X   |   O   |   X \n",
      " O   |   X   |   - \n",
      " -   |   -   |   O \n",
      "AI Move :  6\n",
      " X   |   O   |   X \n",
      " O   |   X   |   - \n",
      " X   |   -   |   O \n",
      "GAME OVER!!\n",
      "AI Won!!\n"
     ]
    }
   ],
   "source": [
    "play()"
   ]
  }
 ],
 "metadata": {
  "kernelspec": {
   "display_name": "Python 3 (ipykernel)",
   "language": "python",
   "name": "python3"
  },
  "language_info": {
   "codemirror_mode": {
    "name": "ipython",
    "version": 3
   },
   "file_extension": ".py",
   "mimetype": "text/x-python",
   "name": "python",
   "nbconvert_exporter": "python",
   "pygments_lexer": "ipython3",
   "version": "3.7.9"
  }
 },
 "nbformat": 4,
 "nbformat_minor": 5
}
